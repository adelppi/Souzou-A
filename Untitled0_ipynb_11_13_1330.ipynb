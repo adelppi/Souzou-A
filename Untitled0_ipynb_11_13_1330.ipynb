{
  "nbformat": 4,
  "nbformat_minor": 0,
  "metadata": {
    "colab": {
      "provenance": [],
      "authorship_tag": "ABX9TyMX8QNrohYyANJQ8i/2aMEN",
      "include_colab_link": true
    },
    "kernelspec": {
      "name": "python3",
      "display_name": "Python 3"
    },
    "language_info": {
      "name": "python"
    }
  },
  "cells": [
    {
      "cell_type": "markdown",
      "metadata": {
        "id": "view-in-github",
        "colab_type": "text"
      },
      "source": [
        "<a href=\"https://colab.research.google.com/github/adelppi/Souzou-A/blob/main/Untitled0_ipynb_11_13_1330.ipynb\" target=\"_parent\"><img src=\"https://colab.research.google.com/assets/colab-badge.svg\" alt=\"Open In Colab\"/></a>"
      ]
    },
    {
      "cell_type": "code",
      "source": [
        "import requests\n",
        "from bs4 import BeautifulSoup\n",
        "import json"
      ],
      "metadata": {
        "id": "K_M-3FvBiK3S"
      },
      "execution_count": null,
      "outputs": []
    },
    {
      "cell_type": "code",
      "source": [
        "#英単語\n",
        "import requests\n",
        "from bs4 import BeautifulSoup\n",
        "import json\n",
        "\n",
        "URL = \"https://tango.mage8.com/word-list\"\n",
        "r = requests.get(URL)\n",
        "soup = BeautifulSoup(r.content, \"html.parser\")\n",
        "\n",
        "data = [i.text for i in soup.find_all(\"a\")]\n",
        "data = data[8:-6]\n",
        "\n",
        "# 単語のリストを作成\n",
        "word_list = []\n",
        "\n",
        "for i in data:\n",
        "    parts = i.split(\"　\")\n",
        "\n",
        "    # スペースで分割された単語を日本語と英語に分ける\n",
        "    if len(parts) == 2:\n",
        "        japanese_word, english_word = parts\n",
        "        word_dict = {\"english\":japanese_word, \"japanese\":english_word}\n",
        "        word_list.append(word_dict)\n",
        "\n",
        "# 単語リストをJSON形式に変換\n",
        "json_data = json.dumps(word_list, ensure_ascii=False, indent=2)\n",
        "\n",
        "# JSONデータを表示\n",
        "print(json_data)\n",
        "\n",
        "# JSONデータをファイルに保存\n",
        "with open(\"eitango.json\", \"w\", encoding=\"utf-8\") as json_file:\n",
        "    json_file.write(json_data)"
      ],
      "metadata": {
        "id": "06lV9jXGJukT"
      },
      "execution_count": null,
      "outputs": []
    },
    {
      "cell_type": "code",
      "source": [
        "#韓国語\n",
        "\n",
        "import requests\n",
        "from bs4 import BeautifulSoup\n",
        "import json\n",
        "\n",
        "URL = \"https://coneru-web.com/hangeul-words/\"\n",
        "r = requests.get(URL)\n",
        "soup = BeautifulSoup(r.content, \"html.parser\")\n",
        "\n",
        "hangul = soup.find_all(\"td\", class_=\"hangeul-link_td03\")\n",
        "nihongo = soup.find_all(\"td\", class_=\"hangeul-link_td01\")\n",
        "\n",
        "nihongo = [i for i in nihongo if \"一覧\" not in i.text]\n",
        "\n",
        "# ペアを辞書として保存するためのリストを作成\n",
        "word_pairs = []\n",
        "\n",
        "for i, k in zip(hangul, nihongo):\n",
        "    hangul_word = i.text\n",
        "    nihongo_word = k.text\n",
        "\n",
        "    # 各ペアのための辞書を作成\n",
        "    word_pair_dict = {\"hangul\": hangul_word, \"nihongo\": nihongo_word}\n",
        "\n",
        "    # 辞書をリストに追加\n",
        "    word_pairs.append(word_pair_dict)\n",
        "\n",
        "# JSONデータをファイルに保存\n",
        "with open(\"kankokugo.json\", \"w\", encoding=\"utf-8\") as json_file:\n",
        "    json.dump(word_pairs, json_file, ensure_ascii=False, indent=2)\n"
      ],
      "metadata": {
        "id": "qZtrOrNaq1rd"
      },
      "execution_count": 1,
      "outputs": []
    },
    {
      "cell_type": "code",
      "source": [
        "#国民の祝日\n",
        "\n",
        "URL = \"https://www8.cao.go.jp/chosei/shukujitsu/gaiyou.html\"\n",
        "r = requests.get(URL)\n",
        "soup = BeautifulSoup(r.content, \"html.parser\")\n",
        "\n",
        "data = soup.find_all(\"table\")[1].find(\"tbody\").find_all(\"tr\")\n",
        "meisyo = [i.find(\"th\").text for i in data if \"休日\" not in i.text]\n",
        "date = [i.find(\"td\").text for i in data if \"休日\" not in i.text]\n",
        "\n",
        "# ペアを辞書として保存するためのリストを作成\n",
        "word_pairs = []\n",
        "\n",
        "for meisyo_word, date_word in zip(meisyo, date):\n",
        "\n",
        "\n",
        "    word_pair_dict = {\"meisyo\": meisyo_word, \"date\": date_word}\n",
        "    word_pairs.append(word_pair_dict)\n",
        "\n",
        "# JSONデータをファイルに保存\n",
        "with open(\"shukujitsu.json\", \"w\", encoding=\"utf-8\") as json_file:\n",
        "    json.dump(word_pairs, json_file, ensure_ascii=False, indent=2)"
      ],
      "metadata": {
        "id": "sqHOmHgGyjIS"
      },
      "execution_count": 2,
      "outputs": []
    },
    {
      "cell_type": "code",
      "source": [
        "#難読漢字\n",
        "import requests\n",
        "from bs4 import BeautifulSoup\n",
        "import json\n",
        "\n",
        "URL = \"https://nandoq.jp/weather.html\"\n",
        "r = requests.get(URL)\n",
        "soup = BeautifulSoup(r.content, \"html.parser\")\n",
        "\n",
        "moji = [i.find(\"b\").text for i in soup.find_all(\"td\", class_=\"moji\")]\n",
        "yomi = [i.find(\"b\").text for i in soup.find_all(\"td\", class_=\"yomi\")]\n",
        "\n",
        "word_pairs = []\n",
        "\n",
        "for moji_word, yomi_word in zip(moji, yomi):\n",
        "    word_pair_dict = {\"moji\": moji_word, \"yomi\": yomi_word}\n",
        "    word_pairs.append(word_pair_dict)\n",
        "\n",
        "# JSONデータをファイルに保存\n",
        "with open(\"nandokukanzi.json\", \"w\", encoding=\"utf-8\") as json_file:\n",
        "    json.dump(word_pairs, json_file, ensure_ascii=False, indent=2)\n"
      ],
      "metadata": {
        "id": "D4qF8OgQARVx"
      },
      "execution_count": 3,
      "outputs": []
    },
    {
      "cell_type": "code",
      "source": [
        "#四字熟語一覧\n",
        "\n",
        "import requests\n",
        "from bs4 import BeautifulSoup\n",
        "import json\n",
        "\n",
        "URL = \"https://idiom-encyclopedia.com/spi/\"\n",
        "r = requests.get(URL)\n",
        "soup = BeautifulSoup(r.content, \"html.parser\")\n",
        "\n",
        "moji = [i.text for i in soup.find_all(\"h4\")]\n",
        "imi = [i.text for i in soup.find_all(\"p\") if i.find_previous_sibling(\"h4\")]\n",
        "\n",
        "word_pairs = []\n",
        "\n",
        "for moji_word, imi_word in zip(moji, imi):\n",
        "    word_pair_dict = {\"moji\": moji_word, \"imi\": imi_word}\n",
        "    word_pairs.append(word_pair_dict)\n",
        "\n",
        "# JSONデータをファイルに保存\n",
        "with open(\"yozizyukugo.json\", \"w\", encoding=\"utf-8\") as json_file:\n",
        "    json.dump(word_pairs, json_file, ensure_ascii=False, indent=2)"
      ],
      "metadata": {
        "id": "QxmgRt3g7tFV"
      },
      "execution_count": 4,
      "outputs": []
    },
    {
      "cell_type": "code",
      "source": [],
      "metadata": {
        "id": "AzbHtC67Pw1J"
      },
      "execution_count": null,
      "outputs": []
    }
  ]
}