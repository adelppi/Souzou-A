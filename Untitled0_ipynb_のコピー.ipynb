{
  "nbformat": 4,
  "nbformat_minor": 0,
  "metadata": {
    "colab": {
      "provenance": [],
      "authorship_tag": "ABX9TyOyGNfxK9CxDcBd5jMY+y1+",
      "include_colab_link": true
    },
    "kernelspec": {
      "name": "python3",
      "display_name": "Python 3"
    },
    "language_info": {
      "name": "python"
    }
  },
  "cells": [
    {
      "cell_type": "markdown",
      "metadata": {
        "id": "view-in-github",
        "colab_type": "text"
      },
      "source": [
        "<a href=\"https://colab.research.google.com/github/adelppi/Souzou-A/blob/main/Untitled0_ipynb_%E3%81%AE%E3%82%B3%E3%83%94%E3%83%BC.ipynb\" target=\"_parent\"><img src=\"https://colab.research.google.com/assets/colab-badge.svg\" alt=\"Open In Colab\"/></a>"
      ]
    },
    {
      "cell_type": "code",
      "source": [
        "import requests\n",
        "from bs4 import BeautifulSoup\n",
        "import json"
      ],
      "metadata": {
        "id": "K_M-3FvBiK3S"
      },
      "execution_count": null,
      "outputs": []
    },
    {
      "cell_type": "code",
      "source": [
        "#英単語\n",
        "import requests\n",
        "from bs4 import BeautifulSoup\n",
        "import json\n",
        "\n",
        "URL = \"https://tango.mage8.com/word-list\"\n",
        "r = requests.get(URL)\n",
        "soup = BeautifulSoup(r.content, \"html.parser\")\n",
        "\n",
        "data = [i.text for i in soup.find_all(\"a\")]\n",
        "data = data[8:-6]\n",
        "\n",
        "for i in data:\n",
        "  print(i.split(\"　\"))"
      ],
      "metadata": {
        "id": "w9d0Ptj0jLGm"
      },
      "execution_count": null,
      "outputs": []
    },
    {
      "cell_type": "code",
      "source": [
        "#韓国語\n",
        "\n",
        "import requests\n",
        "from bs4 import BeautifulSoup\n",
        "import json\n",
        "\n",
        "URL = \"https://coneru-web.com/hangeul-words/\"\n",
        "r = requests.get(URL)\n",
        "soup = BeautifulSoup(r.content, \"html.parser\")\n",
        "\n",
        "hangul = soup.find_all(\"td\", class_=\"hangeul-link_td03\")\n",
        "nihongo = soup.find_all(\"td\", class_=\"hangeul-link_td01\")\n",
        "\n",
        "nihongo = [i for i in nihongo if \"一覧\" not in i.text]\n",
        "\n",
        "# ペアを辞書として保存するためのリストを作成\n",
        "word_pairs = []\n",
        "\n",
        "for i, k in zip(hangul, nihongo):\n",
        "    hangul_word = i.text\n",
        "    nihongo_word = k.text\n",
        "\n",
        "    # 各ペアのための辞書を作成\n",
        "    word_pair_dict = {\"hangul\": hangul_word, \"nihongo\": nihongo_word}\n",
        "\n",
        "    # 辞書をリストに追加\n",
        "    word_pairs.append(word_pair_dict)\n",
        "\n",
        "# 辞書のリストをJSON形式に変換\n",
        "json_data = json.dumps(word_pairs, ensure_ascii=False, indent=2)\n",
        "\n",
        "# JSONデータを表示\n",
        "print(json_data)\n"
      ],
      "metadata": {
        "id": "qZtrOrNaq1rd"
      },
      "execution_count": null,
      "outputs": []
    },
    {
      "cell_type": "code",
      "source": [
        "#国民の祝日\n",
        "\n",
        "URL = \"https://www8.cao.go.jp/chosei/shukujitsu/gaiyou.html\"\n",
        "r = requests.get(URL)\n",
        "soup = BeautifulSoup(r.content, \"html.parser\")\n",
        "\n",
        "data = soup.find_all(\"table\")[1].find(\"tbody\").find_all(\"tr\")\n",
        "meisyo = [i.find(\"th\").text for i in data if \"休日\" not in i.text]\n",
        "date = [i.find(\"td\").text for i in data if \"休日\" not in i.text]\n",
        "\n",
        "# ペアを辞書として保存するためのリストを作成\n",
        "word_pairs = []\n",
        "\n",
        "for meisyo_word, date_word in zip(meisyo, date):\n",
        "\n",
        "\n",
        "    # 各ペアのための辞書を作成\n",
        "    word_pair_dict = {\"meisyo\": meisyo_word, \"date\": date_word}\n",
        "\n",
        "    # 辞書をリストに追加\n",
        "    word_pairs.append(word_pair_dict)\n",
        "\n",
        "# 辞書のリストをJSON形式に変換\n",
        "json_data = json.dumps(word_pairs, ensure_ascii=False, indent=2)\n",
        "\n",
        "# JSONデータを表示\n",
        "print(json_data)"
      ],
      "metadata": {
        "id": "sqHOmHgGyjIS"
      },
      "execution_count": null,
      "outputs": []
    },
    {
      "cell_type": "code",
      "source": [
        "#難読漢字\n",
        "import requests\n",
        "from bs4 import BeautifulSoup\n",
        "import json\n",
        "\n",
        "URL = \"https://nandoq.jp/weather.html\"\n",
        "r = requests.get(URL)\n",
        "soup = BeautifulSoup(r.content, \"html.parser\")\n",
        "\n",
        "moji = [i.find(\"b\").text for i in soup.find_all(\"td\",class_=\"moji\")]\n",
        "yomi = [i.find(\"b\").text for i in soup.find_all(\"td\",class_=\"yomi\")]\n",
        "\n",
        "\n",
        "word_pairs = []\n",
        "\n",
        "for moji_word, yomi_word in zip(moji, yomi):\n",
        "\n",
        "\n",
        "    # 各ペアのための辞書を作成\n",
        "    word_pair_dict = {\"moji\": moji_word, \"yomi\": yomi_word}\n",
        "\n",
        "    # 辞書をリストに追加\n",
        "    word_pairs.append(word_pair_dict)\n",
        "\n",
        "# 辞書のリストをJSON形式に変換\n",
        "json_data = json.dumps(word_pairs, ensure_ascii=False, indent=2)\n",
        "\n",
        "# JSONデータを表示\n",
        "print(json_data)"
      ],
      "metadata": {
        "id": "d-ScNNOA3Fb9"
      },
      "execution_count": null,
      "outputs": []
    },
    {
      "cell_type": "code",
      "source": [],
      "metadata": {
        "id": "SXVo_vVqGL-J"
      },
      "execution_count": null,
      "outputs": []
    }
  ]
}